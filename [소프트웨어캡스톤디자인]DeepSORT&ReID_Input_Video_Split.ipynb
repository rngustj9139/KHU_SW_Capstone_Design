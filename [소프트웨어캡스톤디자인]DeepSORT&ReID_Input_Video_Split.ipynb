{
  "nbformat": 4,
  "nbformat_minor": 0,
  "metadata": {
    "colab": {
      "provenance": []
    },
    "kernelspec": {
      "name": "python3",
      "display_name": "Python 3"
    },
    "language_info": {
      "name": "python"
    }
  },
  "cells": [
    {
      "cell_type": "code",
      "execution_count": null,
      "metadata": {
        "id": "bVKxXXDf-Hlt"
      },
      "outputs": [],
      "source": [
        "!mkdir data"
      ]
    },
    {
      "cell_type": "code",
      "source": [
        "# 2분 소모\n",
        "import cv2\n",
        "\n",
        "video_path = \"/content/drive/Othercomputers/내 노트북/google_drive/DeepSORT_ReID_input/real_real_DeepSORT_input.mp4\"\n",
        "\n",
        "video = cv2.VideoCapture(video_path)\n",
        "\n",
        "frame_count = int(video.get(cv2.CAP_PROP_FRAME_COUNT))\n",
        "\n",
        "for i in range(frame_count):\n",
        "    ret, frame = video.read()\n",
        "    if ret:\n",
        "        image_path = f\"/content/data/{i}.PNG\"\n",
        "        cv2.imwrite(image_path, frame)\n",
        "\n",
        "video.release()"
      ],
      "metadata": {
        "id": "6U-SjCgMAHiu"
      },
      "execution_count": null,
      "outputs": []
    },
    {
      "cell_type": "code",
      "source": [
        "# 이미지 파일 개수 확인 (0~174 -> 175개 존재)\n",
        "import os\n",
        "\n",
        "folder_path = \"/content/data\"\n",
        "file_list = os.listdir(folder_path)\n",
        "file_count = len(file_list)\n",
        "\n",
        "print(file_count)"
      ],
      "metadata": {
        "colab": {
          "base_uri": "https://localhost:8080/"
        },
        "id": "r6pBC7znDxms",
        "outputId": "5dca2666-bbf8-4773-f636-62059aa50966"
      },
      "execution_count": null,
      "outputs": [
        {
          "output_type": "stream",
          "name": "stdout",
          "text": [
            "175\n"
          ]
        }
      ]
    },
    {
      "cell_type": "code",
      "source": [
        "print(file_list)"
      ],
      "metadata": {
        "colab": {
          "base_uri": "https://localhost:8080/"
        },
        "id": "HVWtxfS3Mr0x",
        "outputId": "9ba8e64e-a86c-40cd-ad7b-4ae34723fb73"
      },
      "execution_count": null,
      "outputs": [
        {
          "output_type": "stream",
          "name": "stdout",
          "text": [
            "['83.PNG', '16.PNG', '58.PNG', '112.PNG', '161.PNG', '42.PNG', '148.PNG', '63.PNG', '116.PNG', '14.PNG', '133.PNG', '59.PNG', '170.PNG', '117.PNG', '100.PNG', '150.PNG', '3.PNG', '89.PNG', '26.PNG', '17.PNG', '107.PNG', '125.PNG', '135.PNG', '8.PNG', '128.PNG', '146.PNG', '18.PNG', '142.PNG', '104.PNG', '55.PNG', '139.PNG', '66.PNG', '39.PNG', '24.PNG', '67.PNG', '73.PNG', '76.PNG', '32.PNG', '166.PNG', '173.PNG', '131.PNG', '21.PNG', '77.PNG', '172.PNG', '5.PNG', '46.PNG', '126.PNG', '174.PNG', '145.PNG', '51.PNG', '113.PNG', '41.PNG', '121.PNG', '45.PNG', '136.PNG', '38.PNG', '56.PNG', '35.PNG', '11.PNG', '15.PNG', '118.PNG', '109.PNG', '114.PNG', '155.PNG', '33.PNG', '53.PNG', '129.PNG', '0.PNG', '124.PNG', '154.PNG', '92.PNG', '25.PNG', '84.PNG', '22.PNG', '74.PNG', '20.PNG', '149.PNG', '95.PNG', '93.PNG', '52.PNG', '94.PNG', '1.PNG', '120.PNG', '144.PNG', '4.PNG', '156.PNG', '81.PNG', '101.PNG', '99.PNG', '165.PNG', '152.PNG', '102.PNG', '62.PNG', '44.PNG', '111.PNG', '158.PNG', '43.PNG', '86.PNG', '163.PNG', '151.PNG', '27.PNG', '36.PNG', '10.PNG', '54.PNG', '138.PNG', '127.PNG', '106.PNG', '65.PNG', '82.PNG', '122.PNG', '28.PNG', '30.PNG', '23.PNG', '130.PNG', '110.PNG', '57.PNG', '164.PNG', '168.PNG', '2.PNG', '69.PNG', '96.PNG', '171.PNG', '169.PNG', '34.PNG', '70.PNG', '40.PNG', '159.PNG', '78.PNG', '141.PNG', '85.PNG', '132.PNG', '90.PNG', '31.PNG', '79.PNG', '19.PNG', '47.PNG', '71.PNG', '103.PNG', '147.PNG', '167.PNG', '60.PNG', '88.PNG', '140.PNG', '64.PNG', '49.PNG', '6.PNG', '87.PNG', '105.PNG', '13.PNG', '160.PNG', '119.PNG', '137.PNG', '7.PNG', '80.PNG', '37.PNG', '143.PNG', '108.PNG', '97.PNG', '29.PNG', '91.PNG', '48.PNG', '68.PNG', '134.PNG', '50.PNG', '123.PNG', '61.PNG', '153.PNG', '98.PNG', '75.PNG', '9.PNG', '12.PNG', '72.PNG', '115.PNG', '162.PNG', '157.PNG']\n"
          ]
        }
      ]
    },
    {
      "cell_type": "code",
      "source": [
        "# 이미지 압축 파일 생성\n",
        "import zipfile\n",
        "\n",
        "with zipfile.ZipFile(\"img1.zip\", 'w') as my_zip:\n",
        "    for i in file_list:\n",
        "        my_zip.write(f\"/content/data/{i}\")\n",
        "    my_zip.close()"
      ],
      "metadata": {
        "id": "c3ebjnPPCxsT"
      },
      "execution_count": null,
      "outputs": []
    },
    {
      "cell_type": "code",
      "source": [
        "import shutil\n",
        "\n",
        "filename = \"img1.zip\"\n",
        "src = \"/content\"\n",
        "dst = \"/content/drive/Othercomputers/내 노트북/google_drive/DeepSORT_ReID_input\"\n",
        "\n",
        "shutil.copy(os.path.join(src, filename), os.path.join(dst, filename))"
      ],
      "metadata": {
        "colab": {
          "base_uri": "https://localhost:8080/",
          "height": 35
        },
        "id": "fHs_F9UaN2A5",
        "outputId": "db7ed007-f2df-4f2d-d47d-900815c3fe77"
      },
      "execution_count": null,
      "outputs": [
        {
          "output_type": "execute_result",
          "data": {
            "text/plain": [
              "'/content/drive/Othercomputers/내 노트북/google_drive/DeepSORT_ReID_input/img1.zip'"
            ],
            "application/vnd.google.colaboratory.intrinsic+json": {
              "type": "string"
            }
          },
          "metadata": {},
          "execution_count": 6
        }
      ]
    }
  ]
}